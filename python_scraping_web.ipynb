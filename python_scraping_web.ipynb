{
 "cells": [
  {
   "cell_type": "code",
   "execution_count": 2,
   "id": "cb594023",
   "metadata": {},
   "outputs": [],
   "source": [
    "import requests\n",
    "import bs4\n",
    "from bs4 import BeautifulSoup"
   ]
  },
  {
   "cell_type": "code",
   "execution_count": 3,
   "id": "572fde64",
   "metadata": {},
   "outputs": [],
   "source": [
    "url = 'https://economictimes.indiatimes.com/markets/stocks/news'"
   ]
  },
  {
   "cell_type": "code",
   "execution_count": 4,
   "id": "8e95f652",
   "metadata": {},
   "outputs": [],
   "source": [
    "headers = {\n",
    "    'User-Agent':\"Mozilla/5.0 (Windows NT 10.0; Win64; x64) AppleWebKit/537.36 (KHTML, like Gecko) Chrome/109.0.0.0 Safari/537.36\"\n",
    "}"
   ]
  },
  {
   "cell_type": "code",
   "execution_count": 5,
   "id": "39165b9d",
   "metadata": {},
   "outputs": [],
   "source": [
    "r = requests.get(url,{'headers': headers})"
   ]
  },
  {
   "cell_type": "code",
   "execution_count": 6,
   "id": "4c7df274",
   "metadata": {},
   "outputs": [],
   "source": [
    "soup = bs4.BeautifulSoup(r.text,'html.parser')"
   ]
  },
  {
   "cell_type": "code",
   "execution_count": null,
   "id": "8134ed05",
   "metadata": {},
   "outputs": [],
   "source": [
    "soup.find_all()"
   ]
  },
  {
   "cell_type": "code",
   "execution_count": null,
   "id": "9d6fbe48",
   "metadata": {},
   "outputs": [],
   "source": [
    "soup.find_all('div')"
   ]
  },
  {
   "cell_type": "code",
   "execution_count": null,
   "id": "f5539f70",
   "metadata": {},
   "outputs": [],
   "source": [
    "soup.find_all('div',{'class':'eachStory'})"
   ]
  },
  {
   "cell_type": "code",
   "execution_count": 7,
   "id": "39c32cd9",
   "metadata": {},
   "outputs": [
    {
     "data": {
      "text/plain": [
       "<div class=\"eachStory\" itemprop=\"itemListElement\" itemscope=\"itemscope\" itemtype=\"https://schema.org/ListItem\"><meta content=\"1\" itemprop=\"position\"/><span data-conttype=\"100\" data-ga-onclick=\"1 - href\" href=\"/markets/stocks/news/weekly-top-picks-6-stocks-with-consistent-score-improvement-and-upside-potential-of-up-to-45/articleshow/96983940.cms\"><span class=\"imgContainer\"><img alt=\"Weekly Top Picks: 6 stocks with consistent score improvement and upside potential of up to 45%\" class=\"lazy\" data-original=\"https://img.etimg.com/thumb/msid-96983940,width-160,height-120,imgsize-51526/weekly-top-picks-6-stocks-with-consistent-score-improvement-and-upside-potential-of-up-to-45.jpg\" height=\"120\" src=\"https://img.etimg.com/thumb/msid-42031747,width-160,height-120/etlogo.jpg\" width=\"160\"/></span></span><h3><a data-conttype=\"100\" data-ga-onclick=\"1 - href\" data-orefid=\"p2146843_1\" href=\"/markets/stocks/news/weekly-top-picks-6-stocks-with-consistent-score-improvement-and-upside-potential-of-up-to-45/articleshow/96983940.cms\" itemprop=\"url\"><meta content=\"Weekly Top Picks: 6 stocks with consistent score improvement and upside potential of up to 45%\" itemprop=\"name\"/>Weekly Top Picks: 6 stocks with consistent score improvement and upside potential of up to 45%</a></h3><time class=\"date-format\" data-time=\"Jan 14, 2023, 12:02 PM IST\">Jan 14, 2023, 12:02 PM IST</time><p>Even as NIFTY gets into correction mode once again, there are some pockets where stocks have seen an improvement in their analyst scores. The selected stocks depict a strong upward trajectory in their overall average score which is based on five key pillars i.e. earnings, fundamentals, relative valuation, risk and price momentum. This implies that there has been a significant improvement in their market outlook in the given time frame.</p></div>"
      ]
     },
     "execution_count": 7,
     "metadata": {},
     "output_type": "execute_result"
    }
   ],
   "source": [
    "soup.find_all('div',{'class':'eachStory'})[0]"
   ]
  },
  {
   "cell_type": "code",
   "execution_count": 8,
   "id": "5e733de9",
   "metadata": {},
   "outputs": [
    {
     "data": {
      "text/plain": [
       "<a data-conttype=\"100\" data-ga-onclick=\"1 - href\" data-orefid=\"p2146843_1\" href=\"/markets/stocks/news/weekly-top-picks-6-stocks-with-consistent-score-improvement-and-upside-potential-of-up-to-45/articleshow/96983940.cms\" itemprop=\"url\"><meta content=\"Weekly Top Picks: 6 stocks with consistent score improvement and upside potential of up to 45%\" itemprop=\"name\"/>Weekly Top Picks: 6 stocks with consistent score improvement and upside potential of up to 45%</a>"
      ]
     },
     "execution_count": 8,
     "metadata": {},
     "output_type": "execute_result"
    }
   ],
   "source": [
    "soup.find_all('div',{'class':'eachStory'})[0].find('a')"
   ]
  },
  {
   "cell_type": "code",
   "execution_count": 9,
   "id": "d24f826f",
   "metadata": {},
   "outputs": [
    {
     "data": {
      "text/plain": [
       "'Weekly Top Picks: 6 stocks with consistent score improvement and upside potential of up to 45%'"
      ]
     },
     "execution_count": 9,
     "metadata": {},
     "output_type": "execute_result"
    }
   ],
   "source": [
    "soup.find_all('div',{'class':'eachStory'})[0].find_all('a')[-1].text"
   ]
  },
  {
   "cell_type": "code",
   "execution_count": null,
   "id": "4e1f9218",
   "metadata": {},
   "outputs": [],
   "source": []
  }
 ],
 "metadata": {
  "kernelspec": {
   "display_name": "Python 3 (ipykernel)",
   "language": "python",
   "name": "python3"
  },
  "language_info": {
   "codemirror_mode": {
    "name": "ipython",
    "version": 3
   },
   "file_extension": ".py",
   "mimetype": "text/x-python",
   "name": "python",
   "nbconvert_exporter": "python",
   "pygments_lexer": "ipython3",
   "version": "3.9.12"
  }
 },
 "nbformat": 4,
 "nbformat_minor": 5
}
